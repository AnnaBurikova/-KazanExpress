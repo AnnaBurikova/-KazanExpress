{
  "cells": [
    {
      "cell_type": "markdown",
      "metadata": {
        "id": "rPmEwXZFDw3n"
      },
      "source": [
        "# **Решение тестового задания KazanExpress**\n"
      ]
    },
    {
      "cell_type": "markdown",
      "metadata": {
        "id": "-1e9zVAcEAbj"
      },
      "source": [
        "Поставленная задача:\n",
        "\n",
        "\"На нашем маркетплейсе ежедневно появляются сотни новых товаров. Однако, проверить правильность заполнения информации обо всех товарах сразу невозможно. Неверно определенная категория зачастую приводит к потенциально упущенной прибыли как со стороны продавца, так и со стороны маркетплейса. Мы хотим научиться предсказывать категорию на основе описания, картинки и других параметрах товаров.\""
      ]
    },
    {
      "cell_type": "markdown",
      "metadata": {
        "id": "iQimXOisCtWZ"
      },
      "source": [
        "# *Import библиотек и загрузка данных из zip архива*"
      ]
    },
    {
      "cell_type": "code",
      "execution_count": null,
      "metadata": {
        "id": "-bcrY0SFliBT",
        "colab": {
          "base_uri": "https://localhost:8080/"
        },
        "outputId": "604a2764-4699-41f6-cd26-b7db8dbcae58"
      },
      "outputs": [
        {
          "output_type": "stream",
          "name": "stdout",
          "text": [
            "Looking in indexes: https://pypi.org/simple, https://us-python.pkg.dev/colab-wheels/public/simple/\n",
            "Collecting pymorphy2\n",
            "  Downloading pymorphy2-0.9.1-py3-none-any.whl (55 kB)\n",
            "\u001b[2K     \u001b[90m━━━━━━━━━━━━━━━━━━━━━━━━━━━━━━━━━━━━━━━━\u001b[0m \u001b[32m55.5/55.5 KB\u001b[0m \u001b[31m4.6 MB/s\u001b[0m eta \u001b[36m0:00:00\u001b[0m\n",
            "\u001b[?25hCollecting docopt>=0.6\n",
            "  Downloading docopt-0.6.2.tar.gz (25 kB)\n",
            "  Preparing metadata (setup.py) ... \u001b[?25l\u001b[?25hdone\n",
            "Collecting dawg-python>=0.7.1\n",
            "  Downloading DAWG_Python-0.7.2-py2.py3-none-any.whl (11 kB)\n",
            "Collecting pymorphy2-dicts-ru<3.0,>=2.4\n",
            "  Downloading pymorphy2_dicts_ru-2.4.417127.4579844-py2.py3-none-any.whl (8.2 MB)\n",
            "\u001b[2K     \u001b[90m━━━━━━━━━━━━━━━━━━━━━━━━━━━━━━━━━━━━━━━━\u001b[0m \u001b[32m8.2/8.2 MB\u001b[0m \u001b[31m36.2 MB/s\u001b[0m eta \u001b[36m0:00:00\u001b[0m\n",
            "\u001b[?25hBuilding wheels for collected packages: docopt\n",
            "  Building wheel for docopt (setup.py) ... \u001b[?25l\u001b[?25hdone\n",
            "  Created wheel for docopt: filename=docopt-0.6.2-py2.py3-none-any.whl size=13721 sha256=c0338656cc970045cc2ee46768cd61212f17f030f395bb54ce05e5862e64e3ca\n",
            "  Stored in directory: /root/.cache/pip/wheels/70/4a/46/1309fc853b8d395e60bafaf1b6df7845bdd82c95fd59dd8d2b\n",
            "Successfully built docopt\n",
            "Installing collected packages: pymorphy2-dicts-ru, docopt, dawg-python, pymorphy2\n",
            "Successfully installed dawg-python-0.7.2 docopt-0.6.2 pymorphy2-0.9.1 pymorphy2-dicts-ru-2.4.417127.4579844\n"
          ]
        }
      ],
      "source": [
        "pip install pymorphy2"
      ]
    },
    {
      "cell_type": "code",
      "execution_count": null,
      "metadata": {
        "id": "tfuLp8B6gNxG"
      },
      "outputs": [],
      "source": [
        "import pandas as pd\n",
        "import numpy as np\n",
        "import sklearn\n",
        "from sklearn.ensemble import RandomForestClassifier\n",
        "from sklearn.feature_extraction.text import TfidfVectorizer\n",
        "from sklearn.metrics import f1_score\n",
        "import pickle\n",
        "from sklearn.model_selection import cross_val_score\n",
        "from sklearn.neighbors import KNeighborsClassifier\n",
        "from sklearn.svm import LinearSVC\n",
        "import re\n",
        "import pymorphy2\n",
        "import nltk\n",
        "import re\n",
        "from pymorphy2 import MorphAnalyzer\n",
        "from nltk.corpus import stopwords\n",
        "from sklearn.model_selection import StratifiedKFold\n",
        "from sklearn.metrics import f1_score\n",
        "from sklearn.linear_model import LogisticRegression, LinearRegression\n",
        "from sklearn.preprocessing import LabelEncoder"
      ]
    },
    {
      "cell_type": "code",
      "execution_count": null,
      "metadata": {
        "id": "lGpYUu4FbS4P"
      },
      "outputs": [],
      "source": [
        "!unzip /content/drive/MyDrive/internship_2023.zip -d my_data"
      ]
    },
    {
      "cell_type": "markdown",
      "metadata": {
        "id": "5h7IftSCEfoR"
      },
      "source": [
        "*Загрузка тренировочных данных*"
      ]
    },
    {
      "cell_type": "code",
      "execution_count": null,
      "metadata": {
        "id": "3c1OnxI54QzU"
      },
      "outputs": [],
      "source": [
        "train_data = pd.read_parquet('/content/my_data/train.parquet').reset_index(drop=True)"
      ]
    },
    {
      "cell_type": "code",
      "execution_count": null,
      "metadata": {
        "id": "5hlSYcSz4QzV"
      },
      "outputs": [],
      "source": [
        "le = LabelEncoder()\n",
        "train_data['category_id'] = le.fit_transform(train_data.category_id)"
      ]
    },
    {
      "cell_type": "code",
      "execution_count": null,
      "metadata": {
        "colab": {
          "base_uri": "https://localhost:8080/",
          "height": 206
        },
        "id": "paZ1YomH4QzW",
        "outputId": "7b723814-1dfa-4e8b-9215-4890d0320071"
      },
      "outputs": [
        {
          "output_type": "execute_result",
          "data": {
            "text/plain": [
              "   product_id  category_id   sale  shop_id           shop_title  rating  \\\n",
              "0      325286          251  False     9031                Aksik     5.0   \n",
              "1      888134          748  False    18305                 Sela     5.0   \n",
              "2     1267173          560  False    16357  ЮНЛАНДИЯ канцтовары     5.0   \n",
              "3     1416943           61  False    34666        вася-nicotine     4.0   \n",
              "4     1058275          413  False    26389           Lim Market     4.6   \n",
              "\n",
              "                                         text_fields  \\\n",
              "0  {\"title\": \"Зарядный кабель Borofone BX1 Lightn...   \n",
              "1  {\"title\": \"Трусы Sela\", \"description\": \"Трусы-...   \n",
              "2  {\"title\": \"Гуашь \\\"ЮНЫЙ ВОЛШЕБНИК\\\", 12 цветов...   \n",
              "3  {\"title\": \"Колба для кальяна Крафт (разные цве...   \n",
              "4  {\"title\": \"Пижама женская, однотонная с шортам...   \n",
              "\n",
              "                                       category_name  \n",
              "0  Все категории->Электроника->Смартфоны и телефо...  \n",
              "1  Все категории->Одежда->Женская одежда->Белье и...  \n",
              "2  Все категории->Хобби и творчество->Рисование->...  \n",
              "3  Все категории->Хобби и творчество->Товары для ...  \n",
              "4  Все категории->Одежда->Женская одежда->Домашня...  "
            ],
            "text/html": [
              "\n",
              "  <div id=\"df-0add53c7-a10a-4222-a73d-614da9bf216b\">\n",
              "    <div class=\"colab-df-container\">\n",
              "      <div>\n",
              "<style scoped>\n",
              "    .dataframe tbody tr th:only-of-type {\n",
              "        vertical-align: middle;\n",
              "    }\n",
              "\n",
              "    .dataframe tbody tr th {\n",
              "        vertical-align: top;\n",
              "    }\n",
              "\n",
              "    .dataframe thead th {\n",
              "        text-align: right;\n",
              "    }\n",
              "</style>\n",
              "<table border=\"1\" class=\"dataframe\">\n",
              "  <thead>\n",
              "    <tr style=\"text-align: right;\">\n",
              "      <th></th>\n",
              "      <th>product_id</th>\n",
              "      <th>category_id</th>\n",
              "      <th>sale</th>\n",
              "      <th>shop_id</th>\n",
              "      <th>shop_title</th>\n",
              "      <th>rating</th>\n",
              "      <th>text_fields</th>\n",
              "      <th>category_name</th>\n",
              "    </tr>\n",
              "  </thead>\n",
              "  <tbody>\n",
              "    <tr>\n",
              "      <th>0</th>\n",
              "      <td>325286</td>\n",
              "      <td>251</td>\n",
              "      <td>False</td>\n",
              "      <td>9031</td>\n",
              "      <td>Aksik</td>\n",
              "      <td>5.0</td>\n",
              "      <td>{\"title\": \"Зарядный кабель Borofone BX1 Lightn...</td>\n",
              "      <td>Все категории-&gt;Электроника-&gt;Смартфоны и телефо...</td>\n",
              "    </tr>\n",
              "    <tr>\n",
              "      <th>1</th>\n",
              "      <td>888134</td>\n",
              "      <td>748</td>\n",
              "      <td>False</td>\n",
              "      <td>18305</td>\n",
              "      <td>Sela</td>\n",
              "      <td>5.0</td>\n",
              "      <td>{\"title\": \"Трусы Sela\", \"description\": \"Трусы-...</td>\n",
              "      <td>Все категории-&gt;Одежда-&gt;Женская одежда-&gt;Белье и...</td>\n",
              "    </tr>\n",
              "    <tr>\n",
              "      <th>2</th>\n",
              "      <td>1267173</td>\n",
              "      <td>560</td>\n",
              "      <td>False</td>\n",
              "      <td>16357</td>\n",
              "      <td>ЮНЛАНДИЯ канцтовары</td>\n",
              "      <td>5.0</td>\n",
              "      <td>{\"title\": \"Гуашь \\\"ЮНЫЙ ВОЛШЕБНИК\\\", 12 цветов...</td>\n",
              "      <td>Все категории-&gt;Хобби и творчество-&gt;Рисование-&gt;...</td>\n",
              "    </tr>\n",
              "    <tr>\n",
              "      <th>3</th>\n",
              "      <td>1416943</td>\n",
              "      <td>61</td>\n",
              "      <td>False</td>\n",
              "      <td>34666</td>\n",
              "      <td>вася-nicotine</td>\n",
              "      <td>4.0</td>\n",
              "      <td>{\"title\": \"Колба для кальяна Крафт (разные цве...</td>\n",
              "      <td>Все категории-&gt;Хобби и творчество-&gt;Товары для ...</td>\n",
              "    </tr>\n",
              "    <tr>\n",
              "      <th>4</th>\n",
              "      <td>1058275</td>\n",
              "      <td>413</td>\n",
              "      <td>False</td>\n",
              "      <td>26389</td>\n",
              "      <td>Lim Market</td>\n",
              "      <td>4.6</td>\n",
              "      <td>{\"title\": \"Пижама женская, однотонная с шортам...</td>\n",
              "      <td>Все категории-&gt;Одежда-&gt;Женская одежда-&gt;Домашня...</td>\n",
              "    </tr>\n",
              "  </tbody>\n",
              "</table>\n",
              "</div>\n",
              "      <button class=\"colab-df-convert\" onclick=\"convertToInteractive('df-0add53c7-a10a-4222-a73d-614da9bf216b')\"\n",
              "              title=\"Convert this dataframe to an interactive table.\"\n",
              "              style=\"display:none;\">\n",
              "        \n",
              "  <svg xmlns=\"http://www.w3.org/2000/svg\" height=\"24px\"viewBox=\"0 0 24 24\"\n",
              "       width=\"24px\">\n",
              "    <path d=\"M0 0h24v24H0V0z\" fill=\"none\"/>\n",
              "    <path d=\"M18.56 5.44l.94 2.06.94-2.06 2.06-.94-2.06-.94-.94-2.06-.94 2.06-2.06.94zm-11 1L8.5 8.5l.94-2.06 2.06-.94-2.06-.94L8.5 2.5l-.94 2.06-2.06.94zm10 10l.94 2.06.94-2.06 2.06-.94-2.06-.94-.94-2.06-.94 2.06-2.06.94z\"/><path d=\"M17.41 7.96l-1.37-1.37c-.4-.4-.92-.59-1.43-.59-.52 0-1.04.2-1.43.59L10.3 9.45l-7.72 7.72c-.78.78-.78 2.05 0 2.83L4 21.41c.39.39.9.59 1.41.59.51 0 1.02-.2 1.41-.59l7.78-7.78 2.81-2.81c.8-.78.8-2.07 0-2.86zM5.41 20L4 18.59l7.72-7.72 1.47 1.35L5.41 20z\"/>\n",
              "  </svg>\n",
              "      </button>\n",
              "      \n",
              "  <style>\n",
              "    .colab-df-container {\n",
              "      display:flex;\n",
              "      flex-wrap:wrap;\n",
              "      gap: 12px;\n",
              "    }\n",
              "\n",
              "    .colab-df-convert {\n",
              "      background-color: #E8F0FE;\n",
              "      border: none;\n",
              "      border-radius: 50%;\n",
              "      cursor: pointer;\n",
              "      display: none;\n",
              "      fill: #1967D2;\n",
              "      height: 32px;\n",
              "      padding: 0 0 0 0;\n",
              "      width: 32px;\n",
              "    }\n",
              "\n",
              "    .colab-df-convert:hover {\n",
              "      background-color: #E2EBFA;\n",
              "      box-shadow: 0px 1px 2px rgba(60, 64, 67, 0.3), 0px 1px 3px 1px rgba(60, 64, 67, 0.15);\n",
              "      fill: #174EA6;\n",
              "    }\n",
              "\n",
              "    [theme=dark] .colab-df-convert {\n",
              "      background-color: #3B4455;\n",
              "      fill: #D2E3FC;\n",
              "    }\n",
              "\n",
              "    [theme=dark] .colab-df-convert:hover {\n",
              "      background-color: #434B5C;\n",
              "      box-shadow: 0px 1px 3px 1px rgba(0, 0, 0, 0.15);\n",
              "      filter: drop-shadow(0px 1px 2px rgba(0, 0, 0, 0.3));\n",
              "      fill: #FFFFFF;\n",
              "    }\n",
              "  </style>\n",
              "\n",
              "      <script>\n",
              "        const buttonEl =\n",
              "          document.querySelector('#df-0add53c7-a10a-4222-a73d-614da9bf216b button.colab-df-convert');\n",
              "        buttonEl.style.display =\n",
              "          google.colab.kernel.accessAllowed ? 'block' : 'none';\n",
              "\n",
              "        async function convertToInteractive(key) {\n",
              "          const element = document.querySelector('#df-0add53c7-a10a-4222-a73d-614da9bf216b');\n",
              "          const dataTable =\n",
              "            await google.colab.kernel.invokeFunction('convertToInteractive',\n",
              "                                                     [key], {});\n",
              "          if (!dataTable) return;\n",
              "\n",
              "          const docLinkHtml = 'Like what you see? Visit the ' +\n",
              "            '<a target=\"_blank\" href=https://colab.research.google.com/notebooks/data_table.ipynb>data table notebook</a>'\n",
              "            + ' to learn more about interactive tables.';\n",
              "          element.innerHTML = '';\n",
              "          dataTable['output_type'] = 'display_data';\n",
              "          await google.colab.output.renderOutput(dataTable, element);\n",
              "          const docLink = document.createElement('div');\n",
              "          docLink.innerHTML = docLinkHtml;\n",
              "          element.appendChild(docLink);\n",
              "        }\n",
              "      </script>\n",
              "    </div>\n",
              "  </div>\n",
              "  "
            ]
          },
          "metadata": {},
          "execution_count": 6
        }
      ],
      "source": [
        "train_data.head()"
      ]
    },
    {
      "cell_type": "markdown",
      "source": [
        "# *Анализ данных*"
      ],
      "metadata": {
        "id": "BQhxaq8TSQR8"
      }
    },
    {
      "cell_type": "code",
      "source": [
        "train_data.loc[0], train_data.loc[567]"
      ],
      "metadata": {
        "colab": {
          "base_uri": "https://localhost:8080/"
        },
        "id": "gRs3RUyqSYMw",
        "outputId": "8233d88d-43df-4955-bc49-97c683f5cf31"
      },
      "execution_count": null,
      "outputs": [
        {
          "output_type": "execute_result",
          "data": {
            "text/plain": [
              "(product_id                                                  325286\n",
              " category_id                                                    251\n",
              " sale                                                         False\n",
              " shop_id                                                       9031\n",
              " shop_title                                                   Aksik\n",
              " rating                                                         5.0\n",
              " text_fields      {\"title\": \"Зарядный кабель Borofone BX1 Lightn...\n",
              " category_name    Все категории->Электроника->Смартфоны и телефо...\n",
              " Name: 0, dtype: object,\n",
              " product_id                                                 1768203\n",
              " category_id                                                    655\n",
              " sale                                                         False\n",
              " shop_id                                                      12630\n",
              " shop_title                                                   Весна\n",
              " rating                                                         5.0\n",
              " text_fields      {\"title\": \"Искуственные цветы. Фрезии\", \"descr...\n",
              " category_name    Все категории->Товары для дома->Декор и интерь...\n",
              " Name: 567, dtype: object)"
            ]
          },
          "metadata": {},
          "execution_count": 7
        }
      ]
    },
    {
      "cell_type": "markdown",
      "source": [
        "Видим, что информацию о категории товара можем получить из полей shop_title и text_fields. Информация об id товара, id магазина и скидке не будут значимо влиять на его категорию."
      ],
      "metadata": {
        "id": "vAtehKYBSfAW"
      }
    },
    {
      "cell_type": "code",
      "source": [
        "train_data.text_fields[0], train_data.text_fields[7869]"
      ],
      "metadata": {
        "colab": {
          "base_uri": "https://localhost:8080/"
        },
        "id": "GOkziIZSTFTo",
        "outputId": "1804abd6-7f3f-4970-9ad1-f26604befde2"
      },
      "execution_count": null,
      "outputs": [
        {
          "output_type": "execute_result",
          "data": {
            "text/plain": [
              "('{\"title\": \"Зарядный кабель Borofone BX1 Lightning для айфон, 1м\", \"description\": \"<p><span style=\\\\\"background-color: transparent; color: rgb(0, 26, 52);\\\\\">Зарядный кабель Borofone BX1 подходит для зарядки всех гаджетов и аксессуаров с разъемом </span>Lightning.</p><p><span style=\\\\\"color: rgb(0, 26, 52); background-color: transparent;\\\\\">Поддерживает быструю зарядку.</span></p><p><span style=\\\\\"color: rgb(0, 26, 52); background-color: transparent;\\\\\">Подходит для передачи данных.</span></p>\", \"attributes\": [\"Длина: 1м\", \"Разъем: Lightning\", \"Подерживает быструю зарядку\", \"Максимальный ток: 2.0А\", \"Для зарядки и синхронизации данных\", \"Вес: 22 г.\"], \"custom_characteristics\": {}, \"defined_characteristics\": {\"Цвет\": [\"Черный\", \"Белый\"]}, \"filters\": {\"Цвет\": [\"Белый\", \"Черный\"]}}',\n",
              " '{\"title\": \"Магнит \\\\\"Волшебного Нового Года!\\\\\" символ года, подарки\", \"description\": \"<p>Магнит \\\\\"Волшебного Нового Года!\\\\\" символ года, подарки</p><p><br></p>\", \"attributes\": [\"Индивидуальная упаковка Без упаковки\", \"Размер упаковки (Длина × Ширина × Высота) 6 см х 9 см х 0,1 см\", \"Вес брутто 5 г\", \"Состав Дерево, магнит\", \"Страна производитель Россия\", \"Сертификат Не подлежит сертификации\", \"Торговая марка Дарим Красиво\"], \"custom_characteristics\": {}, \"defined_characteristics\": {}, \"filters\": {}}')"
            ]
          },
          "metadata": {},
          "execution_count": 8
        }
      ]
    },
    {
      "cell_type": "markdown",
      "source": [
        "Поле text_fields обладает наиболее значимой информацией для определения категории товара. Но видим, что в нем много \"шума\". Для каждого товара в этом поле присутствуют слова title, description и т.д., есть много специальных символов в виде скобок, двоеточий и запятых. Так же, посмотрев для бОльшего количества товаров это поле, можно сделать предположение, что слова на английском языке не будут нести важной общей информации. Во многих встречается обозначение цвета как rgb(-, -, -), background-color и похожие слова, не имеющие значения для предсказания категории товара по этому полю.\n",
        "\n",
        "Поэтому можно предположить, что для анализа поля text_field будет достаточно анализировать слова, которые содержат только русские буквы."
      ],
      "metadata": {
        "id": "YRHSpideTLfi"
      }
    },
    {
      "cell_type": "markdown",
      "source": [
        "Можем удалить из поля text_fields все символы кроме букв.\n",
        "\n",
        "Посмотрим, можем ли удалить английские буквы. Для этого посмотрим на text_fields у тех товаров, где количество английских букв больше количества русских. Заранее уберем title, description и т.д."
      ],
      "metadata": {
        "id": "UC1iDj4PUg9n"
      }
    },
    {
      "cell_type": "code",
      "source": [
        "#a - 97, z - 122, A- 65, Z - 90, а - 1072, я - 1103, А - 1040, Я - 1071\n",
        "def count_russian_english_letters(s):\n",
        "  count_ru = 0\n",
        "  count_en = 0\n",
        "  for i in s:\n",
        "    if (1072 <= ord(i) <= 1103) or (1040 <= ord(i) <= 1071):\n",
        "      count_ru += 1\n",
        "    if (97 <= ord(i) <= 122) or (65 <= ord(i) <= 90):\n",
        "      count_en += 1\n",
        "  return count_ru, count_en\n",
        "def delete(s):\n",
        "  s = s.replace('title', '')\n",
        "  s = s.replace('description', '')\n",
        "  s = s.replace('attributes', '')\n",
        "  s = s.replace('custom_characteristics', '')\n",
        "  s = s.replace('defined_characteristics', '')\n",
        "  s = s.replace('filters', '')\n",
        "  s = s.replace('rgb', '')\n",
        "  return s\n",
        "flags = 0\n",
        "strs = train_data.text_fields\n",
        "count = 10\n",
        "for i in strs:\n",
        "  i = delete(i)\n",
        "  count_ru, count_en = count_russian_english_letters(i)\n",
        "  if count_en > count_ru:\n",
        "    count -= 1\n",
        "    print(i)\n",
        "    flags += 1\n",
        "  if count == 0:\n",
        "    break\n",
        "flags"
      ],
      "metadata": {
        "colab": {
          "base_uri": "https://localhost:8080/"
        },
        "id": "WYYER7H8Xe8z",
        "outputId": "c1516a70-a900-4b79-92fe-61072ff1c74a"
      },
      "execution_count": null,
      "outputs": [
        {
          "output_type": "stream",
          "name": "stdout",
          "text": [
            "{\"\": \"Бюстгальтер\", \"\": \"<p><img src=\\\"https://image-cdn.kazanexpress.ru/bouih64h5i5fc12fkm4g/original.jpg\\\"><img src=\\\"https://image-cdn.kazanexpress.ru/bp4i5path9ddr4mbr0d0/original.jpg\\\"><img src=\\\"https://image-cdn.kazanexpress.ru/bouih9gsmgfmei8hp8m0/original.jpg\\\"><a href=\\\"https://kazanexpress.ru/avasecret\\\" target=\\\"_blank\\\"><img src=\\\"https://image-cdn.kazanexpress.ru/bp1sqech5i5fc12fn9t0/original.jpg\\\"><img src=\\\"https://image-cdn.kazanexpress.ru/bouihl8smgfmei8hp8mg/original.jpg\\\"></a></p><p><a href=\\\"https://kazanexpress.ru/avasecret\\\" target=\\\"_blank\\\"><img src=\\\"https://image-cdn.kazanexpress.ru/bovej62th9d5b5domaeg/original.jpg\\\"></a><a href=\\\"https://wa.me/79996720989?text=%D0%97%D0%B4%D1%80%D0%B0%D0%B2%D1%81%D1%82%D0%B2%D1%83%D0%B9%D1%82%D0%B5,%20%D1%83%20%D0%BC%D0%B5%D0%BD%D1%8F%20%D1%82%D0%B0%D0%BA%D0%BE%D0%B9%20%D0%B2%D0%BE%D0%BF%D1%80%D0%BE%D1%81:\\\" target=\\\"_blank\\\"><img src=\\\"https://image-cdn.kazanexpress.ru/bouihq2th9d5b5dolgqg/original.jpg\\\"></a></p>\", \"\": [\" Модель бюстгальтера: пуш-ап\", \"Материал: спандекс\", \"Материал подкладки: хлопок\", \"3 цвета на выбор\", \"Красота и комфорт\", \"Ниже приведены инструкции по уходу\", \"Лучшее нижнее белье в AVA SECRET - переходи в магазин\"], \"\": {\"Размер\": [\"38/85B\", \"36/80B\", \"34/75B\"]}, \"\": {\"Цвет\": [\"Конфетный\", \"Бежевый меланж\", \"Красный\"]}, \"\": {\"Цвет\": [\"Красный\", \"Розовый\", \"Красный\", \"Бежевый\", \"Розовый\", \"Розовый\", \"Красный\", \"Бежевый\", \"Бежевый\"]}}\n",
            "{\"\": \"Полупальто Zarina\", \"\": \"Полупальто Zarina\", \"\": [], \"\": {}, \"\": {\"Размер одежды\": [\"XS\", \"M\", \"S\", \"XXS\", \"L\"]}, \"\": {\"Бренд\": [\"Zarina\", \"Zarina\", \"Zarina\", \"Zarina\", \"Zarina\"], \"Размер одежды\": [\"L\", \"XXS\", \"S\", \"XS\", \"M\"]}}\n",
            "{\"\": \"Чехол с карманом для карт и защитой камеры на iPhone 11, 13, 13 Pro для айфон\", \"\": \"<p class=\\\"ql-align-center\\\"><img src=\\\"https://image-cdn.kazanexpress.ru/c946jj11ati0sv2dbaq0/original.jpg\\\"></p><p class=\\\"ql-align-center\\\"><a href=\\\"https://kazanexpress.ru/product/Zaschitnoe-steklo-25D-2326\\\" rel=\\\"noopener noreferrer\\\" target=\\\"_blank\\\"><img src=\\\"https://image-cdn.kazanexpress.ru/c947nik1acnfqu4r6thg/original.jpg\\\"></a><a href=\\\"https://kazanexpress.ru/product/47542\\\" rel=\\\"noopener noreferrer\\\" target=\\\"_blank\\\"><img src=\\\"https://image-cdn.kazanexpress.ru/c9476i5irr0erne56i1g/original.jpg\\\"></a><a href=\\\"https://kazanexpress.ru/product/46676\\\" rel=\\\"noopener noreferrer\\\" target=\\\"_blank\\\"><img src=\\\"https://image-cdn.kazanexpress.ru/c95vsh91ati99bt1di6g/original.jpg\\\"></a><a href=\\\"https://kazanexpress.ru/product/356429\\\" rel=\\\"noopener noreferrer\\\" target=\\\"_blank\\\"><img src=\\\"https://image-cdn.kazanexpress.ru/c94772i0im9bofmevm70/original.jpg\\\"></a></p><p class=\\\"ql-align-center\\\"><a href=\\\"https://kazanexpress.ru/product/48583\\\" rel=\\\"noopener noreferrer\\\" target=\\\"_blank\\\"><img src=\\\"https://image-cdn.kazanexpress.ru/c9477dh9iffevt1iqj7g/original.jpg\\\"></a><a href=\\\"https://kazanexpress.ru/product/285386\\\" rel=\\\"noopener noreferrer\\\" target=\\\"_blank\\\"><img src=\\\"https://image-cdn.kazanexpress.ru/c9477ll9c87vmcvcbo50/original.jpg\\\"></a><a href=\\\"https://kazanexpress.ru/product/689157\\\" rel=\\\"noopener noreferrer\\\" target=\\\"_blank\\\"><img src=\\\"https://image-cdn.kazanexpress.ru/c9477u0fnljkk2mvjmhg/original.jpg\\\"></a><a href=\\\"https://kazanexpress.ru/product/675630\\\" rel=\\\"noopener noreferrer\\\" target=\\\"_blank\\\"><img src=\\\"https://image-cdn.kazanexpress.ru/c94784ikg4u140mmnvs0/original.jpg\\\"></a></p><p class=\\\"ql-align-center\\\"><img src=\\\"https://image-cdn.kazanexpress.ru/c946jkqkg4u140mmnubg/original.jpg\\\"></p><p><br></p><p class=\\\"ql-align-center\\\"><strong>﻿Чехол прозрачный с карманом для карт и защитой камеры iPhone 11, 13 Pro кошелек визитница</strong></p><p class=\\\"ql-align-center\\\"><br></p><p class=\\\"ql-align-center\\\">Чехол на iPhone 11 силиконовая накладка обеспечивает защиту камеры, задней панели и боковых граней устройства. Прозрачный чехол на айфон 11 силиконовый бампер с приподнятыми рамками, смягчает удар при падении, надежно защищает от царапин и загрязнения. Чехол-бумажник для iPhone 11 имеет максимально удобные, легко нажимаемые кнопки управления, вырезы точно соответствуют модели телефона. Защитный кейс накладка для телефона совместим с большинством беспроводных зарядных устройств (извлеките карты из футляра перед использованием беспроводной зарядки). Айфон 11 чехол с защитой камеры плотно облегает смартфон, без усилий можно снять и надеть. Тонкий силикон прозрачный чехол превращает ваш Apple в симпатичный новый аксессуар, сохраняя оригинальный цвет. При частом извлечении карты из кармашка рекомендуется наклеить защитную пленку на заднюю крышку смартфона</p><p class=\\\"ql-align-center\\\">Прозрачный чехол - тонкий, не утолщает iPhone, поэтому его удобно носить в кармане или сумке. Идеально повторяет контуры вашего iPhone, не выдавливает защитное стекло. Оплата бесконтактным путем, картой размещенной в кармане чехла, не проходит (в силу металлической части телефона, которая не дает сработать NFC). <strong>Чехол не имеет доп. слоя под карманом</strong></p><p class=\\\"ql-align-center\\\"><br></p><p class=\\\"ql-align-center\\\"><img src=\\\"https://ke-images.servicecdn.ru/caop58hprp4bjlf6aqdg/original.jpg\\\"></p><p class=\\\"ql-align-center\\\"><img src=\\\"https://ke-images.servicecdn.ru/caop59t9c87rtllciku0/original.jpg\\\"></p><p class=\\\"ql-align-center\\\"><img src=\\\"https://ke-images.servicecdn.ru/caop5b5kstlkjm7s74f0/original.jpg\\\"></p><p class=\\\"ql-align-center\\\"><img src=\\\"https://ke-images.servicecdn.ru/caop5cnp6erpf7ff9m3g/original.jpg\\\"></p><p class=\\\"ql-align-center\\\"><img src=\\\"https://ke-images.servicecdn.ru/caop5dhprp4bjlf6aqgg/original.jpg\\\"></p><p class=\\\"ql-align-center\\\"><img src=\\\"https://ke-images.servicecdn.ru/caop5fd9c87rtllcil3g/original.jpg\\\"></p><p class=\\\"ql-align-center\\\"><img src=\\\"https://ke-images.servicecdn.ru/caop5i2kg4u6nu5gcvgg/original.jpg\\\"></p><p class=\\\"ql-align-center\\\"><br></p><p class=\\\"ql-align-center\\\"><a href=\\\"https://kazanexpress.ru/lumiya\\\" rel=\\\"noopener noreferrer\\\" target=\\\"_blank\\\"><img src=\\\"https://image-cdn.kazanexpress.ru/c944rqp9iffevt1iqdhg/original.jpg\\\"></a></p>\", \"\": [\"Пропуск или кредитная карта всегда под рукой! Незаменимый аксессуар во время отмены сервиса Apple Pay!\", \"Для тех, кто предпочитает, не скрывать оригинальный внешний вид своего гаджета!\", \"Приятный на ощупь, идеально попадает во все позы телефона\", \"Не собирает следы и отпечатки пальцев\", \"Чехол в руке держится уверенно и не скользит\", \"Сохранит камеру от повреждении, вырезы выполнены идеально под каждую модель\", \"Усиленная защита углов и камеры, противоударный\", \"Задняя стенка кармана отсутствует, при частом извлечении карты из кармашка рекомендуется наклеить защитную пленку на заднюю крышку смартфона\", \"Встроенный NFC чип и металлическая конструкция телефона не позволяет произвести оплату картой из чехла. Для оплаты необходимо достать карту\"], \"\": {\"Модель\": [\"iPhone 11\", \"iPhone 13\", \"iPhone 13 Pro\"]}, \"\": {\"Цвет\": [\"Прозрачный\"]}, \"\": {\"Материал\": [\"Силикон\", \"Силикон\", \"Силикон\"], \"Вид чехла\": [\"Кошелек\", \"Кошелек\", \"Кошелек\"], \"Модель устройства\": [\"Apple iPhone 13 Pro\", \"Apple iPhone 11\", \"Apple iPhone 13\"], \"Особенности\": [\"Карман для пластиковых карт\", \"Противоударный\", \"Карман для пластиковых карт\", \"Противоударный\", \"Противоударный\", \"Карман для пластиковых карт\"], \"Дизайн\": [\"Прозрачный\", \"Прозрачный\", \"Прозрачный\"], \"Цвет\": [\"Прозрачный\", \"Прозрачный\", \"Прозрачный\"]}}\n",
            "{\"\": \"Женская пижама с маечкой на бретелях и шортами\", \"\": \"<p>Женская пижама на бретелях. Основной материал : 80% спандекс +20 % кружево. Невероятно стильный и удобный комплект для ежедневной носки в яркой дерзкой расцветки. Материал спандекс очень комфортный и неприхотливый. Модель в 3ех размерах.</p><p><img src=\\\"https://image-cdn.kazanexpress.ru/bu68jaath9d8oq82uam0/original.jpg\\\"></p><p><img src=\\\"https://image-cdn.kazanexpress.ru/bu68cvrbkrvumc6aphr0/original.jpg\\\"><img src=\\\"https://image-cdn.kazanexpress.ru/bu68d1qth9d8oq82u9q0/original.jpg\\\"><img src=\\\"https://image-cdn.kazanexpress.ru/bu68d6ath9d8oq82u9s0/original.jpg\\\"><img src=\\\"https://image-cdn.kazanexpress.ru/bu68d8jbkrvumc6aphtg/original.jpg\\\"><img src=\\\"https://image-cdn.kazanexpress.ru/bu68ddmfrsad4ed9i7dg/original.jpg\\\"><img src=\\\"https://image-cdn.kazanexpress.ru/bu68dg2th9d8oq82u9sg/original.jpg\\\"></p>\", \"\": [\"Тип: Комплект нижнего белья\", \"Сезон: Весна, лето,осень,зима\", \"Материал :  80% спандекс 20% кружево\", \"Уход: Ручная стирка в холодной воде\", \"Цвет: Черно-белый, полосатый\"], \"\": {}, \"\": {\"Размер одежды\": [\"M\", \"S\", \"L\"]}, \"\": {\"Размер одежды\": [\"S\", \"M\", \"L\"]}}\n",
            "{\"\": \"Смартфон Xiaomi Redmi Note 11 Pro, 8/128 Gb, серый\", \"\": \"<p class=\\\"ql-align-center\\\"><img src=\\\"https://ke-images.servicecdn.ru/ccja2j6ikegvjujak0e0/original.jpg\\\"></p><p class=\\\"ql-align-center\\\"><img src=\\\"https://ke-images.servicecdn.ru/ccja2kh5pr522ijum2h0/original.jpg\\\"></p><p class=\\\"ql-align-center\\\"><img src=\\\"https://ke-images.servicecdn.ru/ccja2lli6omb975v6gm0/original.jpg\\\"></p><p class=\\\"ql-align-center\\\"><img src=\\\"https://ke-images.servicecdn.ru/ccja2mp1ati4tcj50b10/original.jpg\\\"></p><p class=\\\"ql-align-center\\\"><img src=\\\"https://ke-images.servicecdn.ru/ccja2o7p6erqjlpkf4mg/original.jpg\\\"></p><p class=\\\"ql-align-center\\\"><img src=\\\"https://ke-images.servicecdn.ru/ccja2p95pr522ijum2hg/original.jpg\\\"></p><p class=\\\"ql-align-center\\\"><img src=\\\"https://ke-images.servicecdn.ru/ccja2q7cvf7egqv346rg/original.jpg\\\"></p><p class=\\\"ql-align-center\\\"><img src=\\\"https://ke-images.servicecdn.ru/ccja2r11ati4tcj50b1g/original.jpg\\\"></p><p class=\\\"ql-align-center\\\"><img src=\\\"https://ke-images.servicecdn.ru/ccja2t7p6erqjlpkf4n0/original.jpg\\\"></p><p class=\\\"ql-align-center\\\"><img src=\\\"https://ke-images.servicecdn.ru/ccja2u15pr522ijum2i0/original.jpg\\\"></p><p class=\\\"ql-align-center\\\"><img src=\\\"https://ke-images.servicecdn.ru/ccja2v7cvf7egqv346s0/original.jpg\\\"></p><p class=\\\"ql-align-center\\\"><img src=\\\"https://ke-images.servicecdn.ru/ccja2vp1ati4tcj50b20/original.jpg\\\"></p><p class=\\\"ql-align-center\\\"><img src=\\\"https://ke-images.servicecdn.ru/ccja30vp6erqjlpkf4o0/original.jpg\\\"></p><p class=\\\"ql-align-center\\\"><img src=\\\"https://ke-images.servicecdn.ru/ccja3215pr522ijum2ig/original.jpg\\\"></p><p class=\\\"ql-align-center\\\"><img src=\\\"https://ke-images.servicecdn.ru/cdfa2v51ogcmpi231i30/original.jpg\\\"></p><p class=\\\"ql-align-center\\\"><img src=\\\"https://ke-images.servicecdn.ru/ccja3411ati4tcj50b2g/original.jpg\\\"></p><p class=\\\"ql-align-center\\\"><img src=\\\"https://ke-images.servicecdn.ru/ccja3d7p6erqjlpkf4og/original.jpg\\\"></p><p><br></p><h1>Характеристики</h1><h2>Дисплей</h2><p>Дисплей DotDisplay FHD+ AMOLED с диагональю 6,67\\\"</p><p>Частота обновления: до 120 Гц</p><p>Яркость: Режим высокой яркости 700 нит (тип.), пиковая яркость 1200 нит (тип.)&nbsp;</p><p>Коэффициент контрастности: 4 500 000:1</p><p>Разрешение: 2400 x 1080</p><p>Широкое цветовое пространство DCI-P3</p><p>395 ppi</p><p>Технология Sunlight Display&nbsp;</p><p>Режим чтения 3.0</p><p><br></p><h2>Процессор</h2><p>MediaTek Helio G96</p><p>ЦП: восьмиядерный ЦП с тактовой частотой до 2,05 ГГц</p><p>Графический процессор: ARM Mali-G57 MC2</p><p><br></p><h2>Память и ОЗУ</h2><p>8+128 ГБ</p><p>LPDDR4X + UFS2.2</p><p>Расширяемая память до 1 ТБ</p><p>* Доступная память и ОЗУ меньше общего объема памяти из-за наличия операционной системы и предустановленного программного обеспечения.</p><p><br></p><h2>Основная камера</h2><p>Широкоугольная камера 108 Мп</p><p><strong>108 Мп</strong></p><p>f/1.9</p><p>0,7 мкм, объединение 9 пикселей в 1 большой пиксель 2,1 мкм</p><p>Размер датчика 1/1,52\\\"</p><p>Объектив 6P</p><p><strong>Сверхширокоугольная камера с разрешением 8 Мп</strong></p><p>Угол обзора 118°</p><p><strong>Камера для макросъемки с разрешением 2 Мп</strong></p><p>f/2.4</p><p><strong>Камера с режимом глубины изображения 2 Мп</strong></p><p>f/2.4</p><p><strong>Видеосъемка с помощью тыловой камеры&nbsp;</strong></p><p>1080p 1920 x 1080 | 30 кадров/с</p><p>720p 1280 x 720 | 30 кадров/с</p><p><strong>Фронтальная камера</strong></p><p>Селфи-камера 16 Мп</p><p>f/2.4</p><p><strong>Видеозапись с помощью фронтальной камеры&nbsp;</strong></p><p>1080p 1920 x 1080 | 30 кадров/с</p><p>720p 1280 x 720 | 30 кадров/с</p><p><br></p><h2>Безопасность</h2><p>Боковой сканер отпечатка пальца</p><p>Разблокировка по лицу на базе ИИ</p><p><br></p><h2>Сеть и возможности подключения</h2><p>SIM1 + гибридный слот（SIM или MicroSD）</p><p>2G: GSM: 850/900/1800/1900 МГц</p><p>3G: WCDMA: 1/2/4/5/8</p><p>4G: LTE FDD:1/2/3/4/5/7/8/12/13/17/20/26/28/32/66</p><p>4G: LTE TDD:38/40/41&nbsp;</p><p>Bluetooth 5.1</p><p>Протокол Wi-Fi: 802.11 b/g/n/ac</p><p><br></p><h2>Навигация и определение местоположения</h2><p>GPS: L1 ｜ГЛОНАСС: G1 | Компас: B1I</p><p><br></p><h2>Звук</h2><p>Два динамика</p><p>Разъем для наушников, 3,5 мм</p><p>Звук с сертификацией Hi-Res</p><p><br></p><h2>Датчики</h2><p>Датчик приближения | Датчик окружающего освещения | Акселерометр | Электронный компас | ИК-излучатель | Гироскоп</p><p><br></p><h2>NFC</h2><p>Да</p><p>* Наличие некоторых функций может отличаться в разных странах.</p><p><br></p><h2>Размеры</h2><p>Высота: 164,19 мм</p><p>Ширина: 76,1 мм</p><p>Толщина: 8,12 мм</p><p>Вес: 202 г</p><p><br></p><h2>Операционная система</h2><p>MIUI 13 на базе Android 11</p><p><br></p><h2>Содержимое упаковки&nbsp;</h2><p>Redmi Note 11 Pro / Адаптер / Кабель USB Type-C / Инструмент для извлечения SIM-карты / Защитный чехол / Руководство пользователя / Гарантийный талон&nbsp;</p>\", \"\": [\"Мощный и долговечный аккумулятор 5000 мАч\", \"Поддержка NFC\", \"Ультрабыстрая зарядка мощностью 67 Вт\", \"Профессиональная основная камера 108 Мп\", \"Объем встроенной памяти: 128 Gb\", \"Объем оперативной памяти: 8 Gb\", \"Процессор MediaTek Helio G96\", \"Дисплей DotDisplay FHD+ AMOLED с диагональю 6,67\\\"\"], \"\": {}, \"\": {}, \"\": {\"Оперативная память\": [\"8 Гб\"], \"Диагональ экрана, дюймы\": [\"6.6\"], \"Модель устройства\": [\"Xiaomi Mi 11 Pro\"], \"Поддержка быстрой зарядки\": [\"Да\"], \"Версия\": [\"China\"], \"Стандарт связи\": [\"4G LTE\", \"2G\", \"3G\"], \"Число SIM-карт\": [\"2\"], \"Распознавание лица\": [\"Да\"], \"NFC\": [\"Да\"], \"Материал корпуса\": [\"Пластик\"], \"Операционная система\": [\"Android\"], \"Количество основных камер\": [\"4\"], \"Встроенная память\": [\"128 Гб\"], \"Сканер отпечатка пальца\": [\"Да\"], \"Ёмкость аккумулятора, мАч\": [\"5000\"], \"Количество ядер процессора\": [\"8\"], \"Бренд\": [\"Xiaomi\"]}}\n",
            "{\"\": \"Смарт-часы Samsung Galaxy Watch4, 40 mm\", \"\": \"<h1><img src=\\\"https://images.samsung.com/ru/galaxy-watch4/feature/galaxy-watch4-design-seamless.jpg\\\"><strong>Galaxy Watch4 40 мм.</strong></h1><p><br></p><p class=\\\"ql-align-center\\\"><strong>Galaxy Watch4</strong></p><p><img src=\\\"https://images.samsung.com/ru/galaxy-watch4/feature/watch4-kv.jpg\\\"></p><p class=\\\"ql-align-center\\\">Устройство, которое знает вас лучше всех.</p><p><img src=\\\"https://images.samsung.com/ru/galaxy-watch4/feature/galaxy-watch4-green-design-your-own.jpg\\\"></p><p>Чтобы стать лучше - нужно познать себя. Именно поэтому мы разработали совершенно новые Galaxy Watch4, которые станут отличным спутником на пути к самосовершенствованию.</p><p><br></p><h2>Фитнес</h2><p>Ваш&nbsp;персональный&nbsp;тренер.</p><p><img src=\\\"https://images.samsung.com/ru/galaxy-watch4/feature/galaxy-watch4-fitness.jpg\\\"></p><p><br></p><h3>Определение состава тела</h3><p>Не просто прислушивайтесь</p><p>к&nbsp;сигналам своего тела.</p><p>Познакомьтесь с&nbsp;ним поближе.</p><p>Отслеживайте свой прогресс в фитнесе при помощи первых Galaxy Watch, которые умеют анализировать состав тела. Узнайте, какое количество жира, скелетных мышц, воды содержится в вашем организме и другие данные, которые помогут достичь поставленных целей. Датчик Samsung BioActive и наш самый быстрый процессор являются инновационными решениями для новых Galaxy Watch.&nbsp;</p><p><img src=\\\"https://images.samsung.com/ru/galaxy-watch4/feature/galaxy-watch4-body-composition.jpg\\\"></p><p><img src=\\\"https://images.samsung.com/ru/galaxy-watch4/feature/galaxy-watch4-silver-compatibility.jpg\\\"></p><p>Получите результат биоимпедансного анализа (БИА) тела всего лишь за 15 секунд. В любое время и в любом месте.</p><p><img src=\\\"https://images.samsung.com/ru/galaxy-watch4/feature/galaxy-watch4-silver-bioactive-sensor.jpg\\\"><img src=\\\"https://images.samsung.com/ru/galaxy-watch4/feature/galaxy-watch4-silver-bioactive-sensor-over.jpg\\\"></p><p>Новый датчик Samsung BioActive способен определить состав вашего тела в режиме реального времени, что позволит вам отслеживать динамику на пути к своей цели.</p><p><img src=\\\"https://images.samsung.com/ru/galaxy-watch4/feature/galaxy-watch4-body-composition-ui.jpg\\\"></p><p><br></p><h3>Групповые соревнования.</h3><p>Добавьте ещё больше мотивации -</p><p>тренируйтесь вместе с&nbsp;друзьями</p><p>Following the text message, there are two emotes; a gush of wind and a set of eyes glancing left.</p><p>Увидимся на финише, Дима!&nbsp;</p><p><strong>12:45</strong></p><p><img src=\\\"https://images.samsung.com/ru/galaxy-watch4/feature/galaxy-watch4-green-group-challenge.jpg\\\"><img src=\\\"https://images.samsung.com/ru/galaxy-watch4/feature/galaxy-watch4-group-challenge-icon01.jpg\\\"><img src=\\\"https://images.samsung.com/ru/galaxy-watch4/feature/galaxy-watch4-group-challenge-icon02.jpg\\\"><img src=\\\"https://images.samsung.com/ru/galaxy-watch4/feature/galaxy-watch4-group-challenge-icon03.jpg\\\"></p><p>Смотри&nbsp;Аня догоняет…</p><p><strong>12:46</strong></p><p>Наслаждайтесь своим прогрессом вместе с друзьями и семьёй при помощи Galaxy Watch4. Отслеживайте количество пройденных шагов и сравнивайте с результатом друзей в режиме реального времени. Получайте памятные значки и баллы в Групповых соревнованиях - сделайте свои тренировки более интересными, мотивирующими и интерактивными.</p><p><br></p><h3>Мониторинг ежедневной активности и фитнес показателей</h3><p>Выберите вид тренировки.&nbsp;Остальное Galaxy Watch сделают за вас</p><p><img src=\\\"https://images.samsung.com/ru/galaxy-watch4/feature/galaxy-watch4-training-swimming.jpg\\\"><img src=\\\"https://images.samsung.com/ru/galaxy-watch4/feature/galaxy-watch4-training-icon01.jpg\\\"></p><p><img src=\\\"https://images.samsung.com/ru/galaxy-watch4/feature/galaxy-watch4-training-icon02.jpg\\\"></p><p><img src=\\\"https://images.samsung.com/ru/galaxy-watch4/feature/galaxy-watch4-training-icon03.jpg\\\"></p><p><img src=\\\"https://images.samsung.com/ru/galaxy-watch4/feature/galaxy-watch4-training-icon04.jpg\\\"></p><p><img src=\\\"https://images.samsung.com/ru/galaxy-watch4/feature/galaxy-watch4-training-icon05.jpg\\\"></p><p><img src=\\\"https://images.samsung.com/ru/galaxy-watch4/feature/galaxy-watch4-training-icon06.jpg\\\"></p><p><img src=\\\"https://images.samsung.com/ru/galaxy-watch4/feature/galaxy-watch4-training-icon07.jpg\\\"></p><p><img src=\\\"https://images.samsung.com/ru/galaxy-watch4/feature/galaxy-watch4-training-icon10.jpg\\\"><img src=\\\"https://images.samsung.com/ru/galaxy-watch4/feature/galaxy-watch4-training-icon10-over.jpg\\\"></p><p><img src=\\\"https://images.samsung.com/ru/galaxy-watch4/feature/galaxy-watch4-training-icon08.jpg\\\"></p><p><img src=\\\"https://images.samsung.com/ru/galaxy-watch4/feature/galaxy-watch4-training-icon09.jpg\\\"></p><p><img src=\\\"https://images.samsung.com/ru/galaxy-watch4/feature/galaxy-watch4-training-icon11.jpg\\\"></p><p><img src=\\\"https://images.samsung.com/ru/galaxy-watch4/feature/galaxy-watch4-training-icon12.jpg\\\"></p><p><img src=\\\"https://images.samsung.com/ru/galaxy-watch4/feature/galaxy-watch4-training-daily-activity-bike.jpg\\\"></p><p><img src=\\\"https://images.samsung.com/ru/galaxy-watch4/feature/galaxy-watch4-training-daily-activity-running.jpg\\\"></p><p><br></p><p>Отслеживайте свою активность и фитнес показатели на Galaxy Watch и смартфоне. Считайте количество пройденных шагов, проверяйте расход калорий и прокладывайте маршрут при помощи GPS. Galaxy Watch4 определяют и отслеживают вашу физическую активность, а также поддерживают более 90 упражнений для составления более точного отчёта о результатах ваших тренировок.</p><p><br></p><h2>Здоровье</h2><p>Гаджет,</p><p>который</p><p>позаботится</p><p>о&nbsp;вас</p><p><img src=\\\"https://images.samsung.com/ru/galaxy-watch4/feature/galaxy-watch4-pink-gold-health.jpg\\\"><img src=\\\"https://images.samsung.com/ru/galaxy-watch4/feature/galaxy-watch4-pink-gold-health-over.jpg\\\"></p><p><br></p><h3>Измерение ЭКГ и артериального давления.</h3><p>Все данные о состоянии вашего&nbsp;сердца.</p><p><br></p><p>Встречайте новый датчик Samsung BioActive, который способен измерить ЭКГ и артериальное давление в режиме реального времени. После первоначальной калибровки датчик с лёгкостью определяет ваше артериальное давление. Вы также можете проверить наличие отклонений в частоте и ритме сердцебиения при помощи функции ЭКГ и сохранить данные на своём смартфоне.&nbsp;</p><p><img src=\\\"https://images.samsung.com/ru/galaxy-watch4/feature/galaxy-watch4-silver-blood-pressure-ecg.jpg\\\"><img src=\\\"https://images.samsung.com/ru/galaxy-watch4/feature/galaxy-watch4-silver-blood-pressure-ecg-over.jpg\\\"></p><p><strong>Артериальное давление.</strong>&nbsp;Для измерения артериального давления используется оптический датчик сердечного ритма, более известный как PPG датчик.</p><p><strong>ЭКГ.</strong>&nbsp;Запись ЭКГ происходит при помощи электродов.</p><p><img src=\\\"https://images.samsung.com/ru/galaxy-watch4/feature/galaxy-watch4-green-blood-pressure-ecg.jpg\\\"><img src=\\\"https://images.samsung.com/ru/galaxy-watch4/feature/galaxy-watch4-green-blood-pressure-ecg-over.jpg\\\"></p><p><br></p><h3>Анализ качества сна</h3><p>Самый подробный анализ качества сна на&nbsp;Galaxy Watch</p><p>A silver Galaxy Watch4 device is shown with a silver band tied round and its watch face displaying the sleep tracking feature.</p><p><img src=\\\"https://images.samsung.com/ru/galaxy-watch4/feature/galaxy-watch4-silver-better-sleep.png\\\"><img src=\\\"https://images.samsung.com/ru/galaxy-watch4/feature/galaxy-watch4-better-sleep-gui-active-sleep-time.png\\\"><img src=\\\"https://images.samsung.com/ru/galaxy-watch4/feature/galaxy-watch4-better-sleep-gui-sleep-stages.png\\\"></p><p>Специальный трекер фиксирует и детально анализирует фазы вашего сна. Улучшенный алгоритм измерения позволит вам проверить уровень кислорода в крови и характер храпа (если он у вас присутствует). Дополнительно вы получите подробные рекомендации от Национального фонда сна для улучшения его качества и продолжительности.</p><p><br></p><h2>Дизайн</h2><p>Дизайн, продуманный до&nbsp;мелочей</p><p>Two Galaxy Watch4 devices are shown, a pink gold color on the left and a silver color on the lower right. Each has a watch face that is showing different colored designs to tell time.</p><p><img src=\\\"https://images.samsung.com/ru/galaxy-watch4/feature/galaxy-watch4-pink-gold-side-design.jpg\\\"><img src=\\\"https://images.samsung.com/ru/galaxy-watch4/feature/galaxy-watch4-silver-side-design.jpg\\\"></p><p><br></p><h3>Дизайн.</h3><p>Стильный и&nbsp;лаконичный.</p><p>Galaxy Watch4 отличаются лаконичным дизайном и прочным алюминиевым корпусом. Они отлично дополнят любой образ и стиль и обеспечат широкую функциональность для выполнения ваших тренировок и повседневных задач.</p><p><br></p><p>Выберите понравившийся ремешок из широкого ассортимента, к примеру, Hybrid Leather Band или Sport Band, чтобы создать свой собственный стиль. Высококачественные материалы, комфортное расположение на запястье и защита от пота вам обеспечены.&nbsp;</p><p><img src=\\\"https://images.samsung.com/ru/galaxy-watch4/feature/galaxy-watch4-design-sleek.jpg\\\"></p><p><img src=\\\"https://images.samsung.com/ru/galaxy-watch4/feature/galaxy-watch4-design-seamless.jpg\\\"></p><p><img src=\\\"https://images.samsung.com/ru/galaxy-watch4/feature/galaxy-watch4-design-Iconic.jpg\\\"></p>\", \"\": [\"Гарантия 6 месяцев\", \"Зарядка от USB порта: Да\", \"Емкость аккумулятора: 247 мАч\", \"Материал корпуса: алюминий\", \"Оперативная память (RAM): 1.5 ГБ\", \"Смарт-часы Samsung Galaxy Watch4, 40 mm, розовое золото (SM-R860N) \"], \"\": {}, \"\": {\"Цвет\": [\"Розовый\", \"Серебряный\", \"Зеленый\", \"Черный\"]}, \"\": {\"Цвет\": [\"Зеленый\", \"Серебряный\", \"Черный\", \"Розовый\"]}}\n",
            "{\"\": \"Usb data-кабель Borofone BX34 Advantage Type-C 3А\", \"\": \"<p class=\\\"ql-align-center\\\"><img src=\\\"https://image-cdn.kazanexpress.ru/bv31vaces05nihc1tbhg/original.jpg\\\"></p><p class=\\\"ql-align-center\\\"><u class=\\\"ql-size-huge\\\">Borofone BX34 Advantage</u></p><p class=\\\"ql-align-center\\\"><br></p><ul><li><span class=\\\"ql-size-large\\\">Предназначен для синхронизации и быстрого заряда смартфонов, планшетов, наушников, часов и других устройств с разъёмом USB Type-C. </span></li><li><span class=\\\"ql-size-large\\\">Рабочее напряжение - 12V/3А. </span></li><li><span class=\\\"ql-size-large\\\">Длина 1м. (может отличаться +/- 10%). </span></li><li><span class=\\\"ql-size-large\\\">Разъём USB Type-C. Версия 2.0 (нейлон, тканевая оплетка). </span></li><li><span class=\\\"ql-size-large\\\">Совместимость: для подключения к устройствам с Android (андроид), к компьютерам Mac, планшетам и другим устройствам, оснащенным разъёмом Type-C (TypeC): для смартфонов и телефонов, наушников, samsung и др.</span></li></ul><p><img src=\\\"https://image-cdn.kazanexpress.ru/bv326p8854rqmd42kieg/original.jpg\\\"><img src=\\\"https://image-cdn.kazanexpress.ru/bv326vses05nihc1tckg/original.jpg\\\"></p><p><img src=\\\"https://image-cdn.kazanexpress.ru/bv31vbu4gv9tp2vjr9u0/original.jpg\\\"><a href=\\\"https://kazanexpress.ru/alma\\\"><img src=\\\"https://image-cdn.kazanexpress.ru/bv31vco854rqmd42kh8g/original.jpg\\\"></a><img src=\\\"https://image-cdn.kazanexpress.ru/bv31vdces05nihc1tbig/original.jpg\\\"><img src=\\\"https://image-cdn.kazanexpress.ru/bv31vdu4gv9tp2vjr9v0/original.jpg\\\"><a href=\\\"https://kazanexpress.ru/alma\\\"><img src=\\\"https://image-cdn.kazanexpress.ru/bv31ve0854rqmd42kh90/original.jpg\\\"></a></p>\", \"\": [\"Сила тока: до 3.0А\", \"Упаковка: фирменная упаковка\", \"Особенности кабеля: металлический разъем\", \"Форма кабеля: круглый\", \"Длина кабеля: 1.0 м\", \"Материал оплетки кабеля: нейлон\", \"Тип разъема: Type-C\", \"Производитель: BOROFONE\"], \"\": {}, \"\": {\"Цвет\": [\"Красный\", \"Черный\"]}, \"\": {\"Цвет\": [\"Черный\", \"Красный\"]}}\n",
            "{\"\": \"Картина по номерам в рамке 40х50 см. Paintboy GX22471 \\\"Верные души\\\"\", \"\": \"<h2 class=\\\"ql-align-center\\\">Смотрите видеообзор 👇</h2><p class=\\\"ql-align-center\\\"><br></p><iframe class=\\\"ql-video ql-align-center\\\" src=\\\"https://www.youtube.com/embed/oY-1uG_HBGc?showinfo=0&amp;rel=0&amp;loop=1\\\"></iframe><p><br></p><h2 class=\\\"ql-align-center\\\">Картины по номерам 👇</h2><p><br></p><h2><img src=\\\"https://ke-images.servicecdn.ru/c60jsd6somhv1fsl2ar0/original.jpg\\\"></h2><h2><img src=\\\"https://ke-images.servicecdn.ru/c60jsf2tqh41rsmschm0/original.jpg\\\"></h2><p><br></p><h2 class=\\\"ql-align-center\\\">Пример раскраски картин по номерам 👇</h2><p><br></p><p><strong><img src=\\\"https://ke-images.servicecdn.ru/84fe16b1-7d38-4041-a912-9e33770881c7/original.jpg\\\"></strong></p><p><strong><img src=\\\"https://ke-images.servicecdn.ru/8cbfe914-0782-49a3-a041-ee3c5d7cb9d7/original.jpg\\\"></strong></p><p><strong><img src=\\\"https://ke-images.servicecdn.ru/8b144d2d-4c8d-4ff9-a44d-ec55f92655be/original.jpg\\\"></strong></p><p><strong><img src=\\\"https://ke-images.servicecdn.ru/a2b6022d-08b3-4209-88b1-204c41f6c820/original.jpg\\\"></strong></p><p><strong><img src=\\\"https://ke-images.servicecdn.ru/68fa350a-b0f8-4a54-b68d-d9908b6e39b7/original.jpg\\\"></strong></p><p><br></p><p class=\\\"ql-align-center\\\"><strong>Попробуйте! Вы не останетесь равнодушными. <img src=\\\"https://vk.com/images/emoji/D83CDFA8.png\\\">&nbsp;<img src=\\\"https://vk.com/images/emoji/D83DDD8C.png\\\">&nbsp;<img src=\\\"https://vk.com/images/emoji/D83DDDBC.png\\\"></strong></p><p><br></p>\", \"\": [\"Количество цветов: 28\", \"Деревянный подрамник.\", \"Размер 40*50см.\", \"Уровень сложности: 4\", \"Производитель Paintboy.\"], \"\": {}, \"\": {}, \"\": {\"Уровень сложности\": [\"4\"], \"Размер картины\": [\"40х50\"], \"Основа картины\": [\"Холст на подрамнике\"], \"Ориентация\": [\"Горизонтальная\"]}}\n",
            "{\"\": \"Носки Детские Mark Formelle\", \"\": \"<p>Mark Formelle Носки Детские Цвет: кремовый</p>\", \"\": [], \"\": {\"Размер\": [\"22\", \"20\"]}, \"\": {}, \"\": {\"Бренд\": [\"Mark Formelle\", \"Mark Formelle\"]}}\n",
            "{\"\": \"Блузка Zarina\", \"\": \"<p>Удлиненная блузка</p>\", \"\": [\"Размер одежды: L, M, S, XL, XS, XXS\"], \"\": {}, \"\": {\"Размер одежды\": [\"XS\", \"M\", \"S\", \"XXS\", \"L\", \"XL\"]}, \"\": {\"Бренд\": [\"Zarina\", \"Zarina\", \"Zarina\", \"Zarina\", \"Zarina\", \"Zarina\"], \"Размер одежды\": [\"L\", \"XXS\", \"S\", \"XS\", \"M\", \"XL\"]}}\n"
          ]
        },
        {
          "output_type": "execute_result",
          "data": {
            "text/plain": [
              "10"
            ]
          },
          "metadata": {},
          "execution_count": 9
        }
      ]
    },
    {
      "cell_type": "markdown",
      "source": [
        "Видим, что большее количестсво английских слов - не такая важная информация (например, ссылки и специальная информация для них), как слова на русском. Так же можем еще раз убедиться, что можно оставить только буквы, Так как в text_fields используется много цифр для описания модели товара и его параметров, что не важно для категории."
      ],
      "metadata": {
        "id": "lG6HIH2gX4o9"
      }
    },
    {
      "cell_type": "markdown",
      "source": [
        "Удалим все символы не из русского алфивита. Уберем стоп-слова и приведем слова к нормальной форме."
      ],
      "metadata": {
        "id": "pq26OEyMYNJ2"
      }
    },
    {
      "cell_type": "code",
      "source": [
        "train_data.shop_title[0], train_data.shop_title[687], train_data.shop_title[2], train_data.shop_title[5687]"
      ],
      "metadata": {
        "colab": {
          "base_uri": "https://localhost:8080/"
        },
        "id": "d30yiio7N0MB",
        "outputId": "2be3b97c-557d-421f-939d-b332b6e5b882"
      },
      "execution_count": null,
      "outputs": [
        {
          "output_type": "execute_result",
          "data": {
            "text/plain": [
              "('Aksik', 'MIR', 'ЮНЛАНДИЯ канцтовары', 'fceVdom')"
            ]
          },
          "metadata": {},
          "execution_count": 12
        }
      ]
    },
    {
      "cell_type": "markdown",
      "source": [
        "Аналогичные преобразования можно сделать с полем shop_title, т.к. там так же могут быть слова на английском, которые не помогут определить категорию (особенно после удаления английских букв из text_fields), но могут быть русские слова, которое имеют значение. "
      ],
      "metadata": {
        "id": "vLj9LmwIOXsu"
      }
    },
    {
      "cell_type": "markdown",
      "metadata": {
        "id": "k3l53SfZkuFf"
      },
      "source": [
        "# *Функции для обработки текстов*"
      ]
    },
    {
      "cell_type": "code",
      "execution_count": null,
      "metadata": {
        "colab": {
          "base_uri": "https://localhost:8080/"
        },
        "id": "ynjxt1hVlV8e",
        "outputId": "52f2a674-6c40-4ecb-fe1f-21e4daa778b9"
      },
      "outputs": [
        {
          "output_type": "stream",
          "name": "stderr",
          "text": [
            "[nltk_data] Downloading package stopwords to /root/nltk_data...\n",
            "[nltk_data]   Package stopwords is already up-to-date!\n"
          ]
        }
      ],
      "source": [
        "nltk.download('stopwords')\n",
        "patterns = \"[A-Za-z0-9!#$%&'()*+,./:;<=>?@[\\]^_`{|}~—\\\"\\-]+\"\n",
        "stopwords_ru = stopwords.words(\"russian\")\n",
        "morph = MorphAnalyzer()\n",
        "\n",
        "def lemmatize(doc):\n",
        "    doc = re.sub(patterns, ' ', doc)\n",
        "    tokens = []\n",
        "    for token in doc.split():\n",
        "        if token and token not in stopwords_ru:\n",
        "            token = token.strip()\n",
        "            token = morph.normal_forms(token)[0]\n",
        "            \n",
        "            tokens.append(token)\n",
        "    if len(tokens) > 2:\n",
        "        return tokens\n",
        "    return None"
      ]
    },
    {
      "cell_type": "code",
      "execution_count": null,
      "metadata": {
        "id": "MuPm3GAZkvbQ"
      },
      "outputs": [],
      "source": [
        "def create_train_data(data):\n",
        "  shop_titles = np.array(data.shop_title)\n",
        "  all_text_fields = np.array(data.text_fields)\n",
        "  x_train = shop_titles + \" \" + all_text_fields\n",
        "  for i in range(len(x_train)):\n",
        "    x_train[i] = re.sub('[^а-яА-Я ]', '', x_train[i])\n",
        "    x_train[i] = re.sub(r'\\b\\w{1}\\b', '', x_train[i])\n",
        "    x_train[i] = lemmatize(x_train[i])\n",
        "  return x_train"
      ]
    },
    {
      "cell_type": "code",
      "execution_count": null,
      "metadata": {
        "id": "WVH4yHYNmXXD"
      },
      "outputs": [],
      "source": [
        "def get_preprocessed_data(data):\n",
        "  x_train = create_train_data(data)\n",
        "  for i in range(len(x_train)):\n",
        "    if x_train[i]:\n",
        "      x_train[i] = ' '.join(x_train[i])\n",
        "    else:\n",
        "      x_train[i] = ''\n",
        "  return x_train"
      ]
    },
    {
      "cell_type": "markdown",
      "source": [
        "# Берем из таблицы нужные данные для x_train, применяем для них TfidfVectorizer, берем нужные данные для y_train"
      ],
      "metadata": {
        "id": "x4iCQXX3ZWkI"
      }
    },
    {
      "cell_type": "code",
      "execution_count": null,
      "metadata": {
        "id": "zbDlCCDU5IVe"
      },
      "outputs": [],
      "source": [
        "x_train_preprocessed = get_preprocessed_data(train_data)"
      ]
    },
    {
      "cell_type": "code",
      "execution_count": null,
      "metadata": {
        "id": "TzPnYLHE6GFz"
      },
      "outputs": [],
      "source": [
        "def write_data_to_file(data, filename_pkl, filename_serialized):\n",
        "  with open(filename_pkl, 'wb') as file:\n",
        "      pickle.dump(data, file)\n",
        "  serialized = pickle.dumps(data)\n",
        "  filee = open(filename_serialized, 'wb')\n",
        "  filee.write(serialized)\n",
        "  filee.close()"
      ]
    },
    {
      "cell_type": "code",
      "execution_count": null,
      "metadata": {
        "id": "z2pGCAiq6GF0"
      },
      "outputs": [],
      "source": [
        "def get_data_from_file(filename_serialized):\n",
        "  f = open(filename_serialized, 'rb')\n",
        "  ser = f.read()\n",
        "  data = pickle.loads(ser)\n",
        "  return data"
      ]
    },
    {
      "cell_type": "code",
      "source": [
        "write_data_to_file(x_train_preprocessed, 'x_train_preprocessed2103.pkl', 'serialized_x_train_preprocessed2103')"
      ],
      "metadata": {
        "id": "4w-Mgup6NE9y"
      },
      "execution_count": null,
      "outputs": []
    },
    {
      "cell_type": "code",
      "execution_count": null,
      "metadata": {
        "id": "BV_8eaA52S6Q"
      },
      "outputs": [],
      "source": [
        "tf_idf = TfidfVectorizer(max_df=0.8, min_df=10)\n",
        "tf_idf.fit(x_train_preprocessed)\n",
        "x_train_preprocessed = tf_idf.transform(x_train_preprocessed)"
      ]
    },
    {
      "cell_type": "code",
      "execution_count": null,
      "metadata": {
        "id": "gPZxut7a6QD5"
      },
      "outputs": [],
      "source": [
        "y_train = train_data.category_id"
      ]
    },
    {
      "cell_type": "code",
      "execution_count": null,
      "metadata": {
        "id": "dVkvvkdY6bmE"
      },
      "outputs": [],
      "source": [
        "svm_model = LinearSVC(C=0.5, tol=1e-05, max_iter=100, random_state=42)"
      ]
    },
    {
      "cell_type": "markdown",
      "source": [
        "# Обучение модели, сохранение, предсказание на тестовых данных, сохранение предсказания"
      ],
      "metadata": {
        "id": "qTHkfYu-m8xL"
      }
    },
    {
      "cell_type": "code",
      "execution_count": null,
      "metadata": {
        "id": "pib0JFFL6mQb"
      },
      "outputs": [],
      "source": [
        "svm_model.fit(x_train_preprocessed, y_train)"
      ]
    },
    {
      "cell_type": "markdown",
      "source": [],
      "metadata": {
        "id": "KnHieYd0nGiH"
      }
    },
    {
      "cell_type": "code",
      "source": [
        "write_data_to_file(svm_model, 'svm_model2103.sav', 'serialized_svm_model2103')"
      ],
      "metadata": {
        "id": "H5atrhjQmEs2"
      },
      "execution_count": null,
      "outputs": []
    },
    {
      "cell_type": "code",
      "execution_count": null,
      "metadata": {
        "id": "0XjvDFITDz9i"
      },
      "outputs": [],
      "source": [
        "test_data = pd.read_parquet('/content/my_data/test.parquet').reset_index(drop=True)"
      ]
    },
    {
      "cell_type": "code",
      "execution_count": null,
      "metadata": {
        "id": "-nLpMhx2EENf"
      },
      "outputs": [],
      "source": [
        "x_test_preprocessed = get_preprocessed_data(test_data)\n",
        "x_test_preprocessed = tf_idf.transform(x_test_preprocessed)"
      ]
    },
    {
      "cell_type": "code",
      "execution_count": null,
      "metadata": {
        "id": "UkRpOo67Di-Z"
      },
      "outputs": [],
      "source": [
        "y_pred = svm_model.predict(x_test_preprocessed)"
      ]
    },
    {
      "cell_type": "code",
      "source": [
        "write_data_to_file(y_pred, 'y_pred2103.pkl', 'serialized_y_pred2103')"
      ],
      "metadata": {
        "id": "-Ipf7Dexmste"
      },
      "execution_count": null,
      "outputs": []
    },
    {
      "cell_type": "markdown",
      "source": [
        "Это итоговое предсказание модели."
      ],
      "metadata": {
        "id": "dTSaonm2tcjL"
      }
    },
    {
      "cell_type": "code",
      "source": [
        "product_ids = test_data.product_id\n",
        "d = {'product_id': np.array(product_ids), 'predicted_category_id': np.array(y_pred)}\n",
        "result = pd.DataFrame(data=d)\n",
        "res = result.to_parquet('result.parquet')"
      ],
      "metadata": {
        "id": "dcaxXvLvyz6q"
      },
      "execution_count": null,
      "outputs": []
    },
    {
      "cell_type": "markdown",
      "source": [
        "# **Описание других исследований**"
      ],
      "metadata": {
        "id": "UyW-Tz9NrEtu"
      }
    },
    {
      "cell_type": "markdown",
      "source": [
        "До обучения с помощью LinearSVC были обучены RandomForestClassifier и KNeighborsClassifier. Качество на них по кросс-валлидации было примерно 0.67, в то время как для LinearSVC оно было около 0.87.\n",
        "\n",
        "Пример того, как выполнялась кросс-валидация:\n"
      ],
      "metadata": {
        "id": "RbU45NvcrNv3"
      }
    },
    {
      "cell_type": "code",
      "source": [
        "from sklearn.model_selection import cross_val_score\n",
        "svm_val = LinearSVC(C=0.5, tol=1e-05, max_iter=100, random_state=42)\n",
        "cross_val_score(svm_val, x_train_preprocessed, y_train, cv=3, n_jobs=4)"
      ],
      "metadata": {
        "colab": {
          "base_uri": "https://localhost:8080/"
        },
        "id": "rEPhaUAYvtIh",
        "outputId": "f6a139a1-77c9-4ca7-fb79-b937b80c40c6"
      },
      "execution_count": null,
      "outputs": [
        {
          "output_type": "stream",
          "name": "stderr",
          "text": [
            "/usr/local/lib/python3.9/dist-packages/sklearn/model_selection/_split.py:700: UserWarning: The least populated class in y has only 1 members, which is less than n_splits=3.\n",
            "  warnings.warn(\n"
          ]
        },
        {
          "output_type": "execute_result",
          "data": {
            "text/plain": [
              "array([0.84361625, 0.84282093, 0.84338063])"
            ]
          },
          "metadata": {},
          "execution_count": 21
        }
      ]
    },
    {
      "cell_type": "markdown",
      "source": [
        "Так же был подбор параметров с помощью GridSearchCV."
      ],
      "metadata": {
        "id": "L9liyzqx7WNH"
      }
    },
    {
      "cell_type": "markdown",
      "source": [],
      "metadata": {
        "id": "Ixo3qven7UMS"
      }
    },
    {
      "cell_type": "markdown",
      "source": [
        "Были попытки работы с картинками. Попыталась обучить нейросеть tf.keras.applications.ResNet152 на тренировачном датасете, добавив туда слой для классификации на заданные в тренировочном датасете классы. Однако качество модели получалось плохим, около 0.41... Код обучения нейросети представлен ниже."
      ],
      "metadata": {
        "id": "PG6_NTwCsu67"
      }
    },
    {
      "cell_type": "markdown",
      "source": [
        "# Обучение tf.keras.applications.ResNet152"
      ],
      "metadata": {
        "id": "7xg8Ar2It3Zd"
      }
    },
    {
      "cell_type": "code",
      "execution_count": null,
      "metadata": {
        "id": "7L8Br0Lzts99"
      },
      "outputs": [],
      "source": [
        "import tensorflow as tf\n",
        "import matplotlib.pyplot as plt\n",
        "from tensorflow.keras import datasets, layers, models, losses, Model"
      ]
    },
    {
      "cell_type": "code",
      "execution_count": null,
      "metadata": {
        "id": "vTJ2iovwts9-"
      },
      "outputs": [],
      "source": [
        "imgs = []\n",
        "y_train = []\n",
        "product_ids = np.array(train_data.product_id)\n",
        "for i in range(len(train_data.product_id)):\n",
        "  if (i % 2 == 0):\n",
        "    img = tf.convert_to_tensor(tf.keras.utils.load_img('/content/my_data/images/train/' + str(product_ids[i])+ '.jpg'))\n",
        "    img = tf.image.resize(img, (64, 64), method='nearest')\n",
        "    imgs.append(img)\n",
        "    y_train.append(train_data.category_id[i])"
      ]
    },
    {
      "cell_type": "code",
      "execution_count": null,
      "metadata": {
        "id": "Jg7JpRJuts9_"
      },
      "outputs": [],
      "source": [
        "imgs_val = []\n",
        "product_ids = np.array(train_data.product_id)\n",
        "y_train_val = []\n",
        "for i in range(346, len(train_data.product_id)):\n",
        "  if i % 2 != 0 and i % 3 != 0:\n",
        "    img = tf.convert_to_tensor(tf.keras.utils.load_img('/content/my_data/images/train/' + str(product_ids[i])+ '.jpg'))\n",
        "    img = tf.image.resize(img, (64, 64), method='nearest')\n",
        "    imgs_val.append(img)\n",
        "    y_train_val.append(train_data.category_id[i])"
      ]
    },
    {
      "cell_type": "code",
      "execution_count": null,
      "metadata": {
        "id": "88MzzAnIts9_"
      },
      "outputs": [],
      "source": [
        "base_model = tf.keras.applications.ResNet152(weights = 'imagenet', include_top = False, input_shape = (64,64,3))\n",
        "for layer in base_model.layers:\n",
        "  layer.trainable = False"
      ]
    },
    {
      "cell_type": "code",
      "execution_count": null,
      "metadata": {
        "id": "mC_OZaYets-A"
      },
      "outputs": [],
      "source": [
        "x = layers.Flatten()(base_model.output)\n",
        "x = layers.Dense(1000, activation='relu')(x)\n",
        "predictions = layers.Dense(874, activation = 'softmax')(x)"
      ]
    },
    {
      "cell_type": "code",
      "execution_count": null,
      "metadata": {
        "id": "AoUXTwsMts-A"
      },
      "outputs": [],
      "source": [
        "head_model = Model(inputs = base_model.input, outputs = predictions)\n",
        "head_model.compile(optimizer='adam', loss=losses.sparse_categorical_crossentropy, metrics=['accuracy']) #Здесь надо было бы f1_score, заметила только после долгого обучения..."
      ]
    },
    {
      "cell_type": "code",
      "execution_count": null,
      "metadata": {
        "colab": {
          "background_save": true,
          "base_uri": "https://localhost:8080/"
        },
        "id": "r4T2OJX_OfJl",
        "outputId": "3e4ba751-beca-45ac-a786-72028a8b06b9"
      },
      "outputs": [
        {
          "name": "stdout",
          "output_type": "stream",
          "text": [
            "Epoch 1/8\n",
            "178/178 [==============================] - 3403s 19s/step - loss: 4.8554 - accuracy: 0.1964 - val_loss: 4.0970 - val_accuracy: 0.2483\n",
            "Epoch 2/8\n",
            "178/178 [==============================] - 3348s 19s/step - loss: 3.4961 - accuracy: 0.3027 - val_loss: 3.8566 - val_accuracy: 0.2779\n",
            "Epoch 3/8\n",
            "178/178 [==============================] - 3329s 19s/step - loss: 2.8482 - accuracy: 0.3833 - val_loss: 3.9182 - val_accuracy: 0.2858\n",
            "Epoch 4/8\n",
            "178/178 [==============================] - ETA: 0s - loss: 2.2952 - accuracy: 0.4664 "
          ]
        }
      ],
      "source": [
        "history = head_model.fit(np.array(imgs), np.array(y_train), batch_size=256, epochs=8, validation_data=(np.array(imgs_val), np.array(y_train_val)))"
      ]
    },
    {
      "cell_type": "markdown",
      "source": [
        "# Что можно сделать дальше"
      ],
      "metadata": {
        "id": "yA58x3x4t-FW"
      }
    },
    {
      "cell_type": "markdown",
      "source": [
        "Если бы качество tf.keras.applications.ResNet152 получилось бы лучше, то была бы обучена новая модель, сверху LinearSVC, обученной выше на текстах, и tf.keras.applications.ResNet152.\n",
        "\n",
        "Поэтому можно улучшить качество нейросети, возможно, выбрать другую архитектуру. Затем взять предсказания LinearSVC и tf.keras.applications.ResNet152, конкатерировать их и взять их в качестве x_train, а y_train оставить то же и обучить, например, RandomForest.\n",
        "\n",
        "Так же для улучшения ккачества можно попробовать более внимательно анализировать данные. Например, обратить внимание, что в text_fields в title хранится более важная и компактная информация, чем в description."
      ],
      "metadata": {
        "id": "rMk65P9huKK1"
      }
    },
    {
      "cell_type": "markdown",
      "source": [
        "# *Литература*"
      ],
      "metadata": {
        "id": "F19eS3GCto-1"
      }
    },
    {
      "cell_type": "markdown",
      "source": [
        "https://python-school.ru/blog/russian-text-preprocessing/\n",
        "\n",
        "https://medium.com/swlh/resnet-with-tensorflow-transfer-learning-13ff0773cf0c"
      ],
      "metadata": {
        "id": "JhKy8a-DtsgX"
      }
    }
  ],
  "metadata": {
    "colab": {
      "collapsed_sections": [
        "iQimXOisCtWZ",
        "BQhxaq8TSQR8",
        "k3l53SfZkuFf",
        "x4iCQXX3ZWkI",
        "qTHkfYu-m8xL",
        "UyW-Tz9NrEtu",
        "7xg8Ar2It3Zd",
        "yA58x3x4t-FW"
      ],
      "provenance": []
    },
    "kernelspec": {
      "display_name": "Python 3",
      "name": "python3"
    },
    "language_info": {
      "name": "python"
    }
  },
  "nbformat": 4,
  "nbformat_minor": 0
}